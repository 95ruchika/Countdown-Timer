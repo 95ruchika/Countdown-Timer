{
  "nbformat": 4,
  "nbformat_minor": 0,
  "metadata": {
    "colab": {
      "provenance": [],
      "authorship_tag": "ABX9TyMEGZLdKA/ZNu7hjiONNn0J",
      "include_colab_link": true
    },
    "kernelspec": {
      "name": "python3",
      "display_name": "Python 3"
    },
    "language_info": {
      "name": "python"
    }
  },
  "cells": [
    {
      "cell_type": "markdown",
      "metadata": {
        "id": "view-in-github",
        "colab_type": "text"
      },
      "source": [
        "<a href=\"https://colab.research.google.com/github/95ruchika/Countdown-Timer/blob/main/Python_Countdown_timer.ipynb\" target=\"_parent\"><img src=\"https://colab.research.google.com/assets/colab-badge.svg\" alt=\"Open In Colab\"/></a>"
      ]
    },
    {
      "cell_type": "code",
      "execution_count": null,
      "metadata": {
        "id": "qYjOdKVR4l5Y"
      },
      "outputs": [],
      "source": [
        "\n",
        "# Import the time module\n",
        "import tkinter as tk\n",
        "import tkinter.messagebox\n",
        "import time"
      ]
    },
    {
      "cell_type": "code",
      "source": [
        "# Hour list\n",
        "hour_list = [0, 1, 2, 3, 4, 5, 6, 7, 8, 9, 10, 11, 12, 13, 14,\n",
        "15, 16, 17, 18, 19, 20, 21, 22, 23, 24]\n",
        "\n",
        "# Minute List\n",
        "min_sec_list = [0, 1, 2, 3, 4, 5, 6, 7, 8, 9, 10, 11, 12, 13, 14,\n",
        "15, 16, 17, 18, 19, 20, 21, 22, 23, 24, 25, 26, 27, 28, 29,\n",
        "30, 31, 32, 33, 34, 35, 36, 37, 38, 39, 40, 41, 42, 43, 44,\n",
        "45, 46, 47, 48, 49, 50, 51, 52, 53, 54, 55, 56, 57, 58, 59,\n",
        "]\n"
      ],
      "metadata": {
        "id": "4qEYktVb3PQ-"
      },
      "execution_count": null,
      "outputs": []
    },
    {
      "cell_type": "code",
      "source": [
        "# Creating a CountDown Class\n",
        "class CountDown:\n",
        "    def __init__(self, root):\n",
        "        self.window = root\n",
        "        self.window.geometry(\"480x320+0+0\")\n",
        "        self.window.title('CountDown Timer')\n",
        "        # Tkinter window background color\n",
        "        self.window.configure(bg='gray35')\n",
        "        # Window length\n",
        "        self.window.resizable(width = True, height = True)\n",
        "\n",
        "        # Declaring a variable to pause the countdown time\n",
        "        self.pause = False\n",
        "\n"
      ],
      "metadata": {
        "id": "1NTW6BwN4KkG"
      },
      "execution_count": null,
      "outputs": []
    },
    {
      "cell_type": "code",
      "source": [
        "# The Start and Pause buttons are placed\n",
        "        # inside this frame\n",
        "        self.button_frame = Frame(self.window, bg=\"gray35\", \\\n",
        "        width=240, height=40)\n",
        "        self.button_frame.place(x=230, y=150)\n",
        "        # This frame is used to show the countdown time label\n",
        "        self.time_frame = Frame(self.window, bg=\"gray35\", \\\n",
        "        width=480, height=120).place(x=0, y=210)\n"
      ],
      "metadata": {
        "id": "URotc1GP5Ymh"
      },
      "execution_count": null,
      "outputs": []
    },
    {
      "cell_type": "code",
      "source": [
        "        # Tkinter Labels\n",
        "        time_label = Label(self.window, text=\"Countdown Timer\",\n",
        "        font=(\"times new roman\",20, \"bold\"), bg='gray35',fg='yellow')\n",
        "        time_label.place(x=130, y=30)\n",
        "\n",
        "        hour_label = Label(self.window, text=\"Hour\",\n",
        "        font=(\"times new roman\",15), bg='gray35', fg='white')\n",
        "        hour_label.place(x=50, y=70)\n",
        "\n",
        "        minute_label = Label(self.window, text=\"Minute\",\n",
        "        font=(\"times new roman\",15), bg='gray35', fg='white')\n",
        "        minute_label.place(x=200, y=70)\n",
        "\n",
        "        second_label = Label(self.window, text=\"Second\",\n",
        "        font=(\"times new roman\",15), bg='gray35', fg='white')\n",
        "        second_label.place(x=350, y=70)\n"
      ],
      "metadata": {
        "id": "g_bXKm4w5fhD"
      },
      "execution_count": null,
      "outputs": []
    },
    {
      "cell_type": "code",
      "source": [
        "# Tkinter Comboboxes\n",
        "        # Combobox for hours\n",
        "        self.hour = IntVar()\n",
        "        self.hour_combobox = ttk.Combobox(self.window, width=8,\n",
        "        height=10, textvariable=self.hour,\n",
        "        font=(\"times new roman\",15))\n",
        "        self.hour_combobox['values'] = hour_list\n",
        "        self.hour_combobox.current(0)\n",
        "        self.hour_combobox.place(x=50,y=110)\n",
        "\n"
      ],
      "metadata": {
        "id": "WKP8dJsy5nCU"
      },
      "execution_count": null,
      "outputs": []
    },
    {
      "cell_type": "code",
      "source": [
        "        # Combobox for minutes\n",
        "        self.minute = IntVar()\n",
        "        self.minute_combobox = ttk.Combobox(self.window, width=8,\n",
        "        height=10, textvariable=self.minute,\n",
        "        font=(\"times new roman\",15))\n",
        "        self.minute_combobox['values'] = min_sec_list\n",
        "        self.minute_combobox.current(0)\n",
        "        self.minute_combobox.place(x=200,y=110)\n"
      ],
      "metadata": {
        "id": "C7KNtZyB5vcj"
      },
      "execution_count": null,
      "outputs": []
    },
    {
      "cell_type": "code",
      "source": [
        "        # Combobox for seconds\n",
        "        self.second = IntVar()\n",
        "        self.second_combobox = ttk.Combobox(self.window, width=8,\n",
        "        height=10, textvariable=self.second,\n",
        "        font=(\"times new roman\",15))\n",
        "        self.second_combobox['values'] = min_sec_list\n",
        "        self.second_combobox.current(0)\n",
        "        self.second_combobox.place(x=350,y=110)\n"
      ],
      "metadata": {
        "id": "8F_L3oV7513u"
      },
      "execution_count": null,
      "outputs": []
    },
    {
      "cell_type": "code",
      "source": [
        "        # Tkinter Buttons\n",
        "        # Stop button\n",
        "        stop_button = Button(self.window,text= 'Stop',\n",
        "        font=('Helvetica',12), bg=\"red\", fg=\"black\",\n",
        "        command=self.Stop)\n",
        "        stop_button.place(x=70, y=250)\n",
        "\n"
      ],
      "metadata": {
        "id": "KQbblqJd57ew"
      },
      "execution_count": null,
      "outputs": []
    },
    {
      "cell_type": "code",
      "source": [
        "        # Set Time Button\n",
        "        # When the user will press this button\n",
        "        # the 'Start' and 'Pause' button will\n",
        "        # show inside the 'self.button_frame' frame\n",
        "        set_button = Button(self.window, text='  Set  ',\n",
        "        font=('Helvetica',12), bg=\"white\", fg=\"black\",\n",
        "        command=self.Get_Time)\n",
        "        set_button.place(x=70, y=150)\n"
      ],
      "metadata": {
        "id": "HRAyzg2J6EcQ"
      },
      "execution_count": null,
      "outputs": []
    },
    {
      "cell_type": "code",
      "source": [
        "    # It will destroy the window\n",
        "    def Stop(self):\n",
        "        self.pause = True\n",
        "        self.window.destroy()\n"
      ],
      "metadata": {
        "id": "5y3_bLev6JmU"
      },
      "execution_count": null,
      "outputs": []
    },
    {
      "cell_type": "code",
      "source": [
        "# When the set button is pressed, this\n",
        "    # function gets called\n",
        "    def Get_Time(self):\n",
        "        self.time_display = Label(self.time_frame,\n",
        "        font=('Helvetica', 20 , \"bold\"),\n",
        "        bg = 'gray35', fg = 'yellow')\n",
        "        self.time_display.place(x=130, y=210)\n",
        "\n",
        "        try:\n",
        "            # Total amount of time in seconds\n",
        "            h = (int(self.hour_combobox.get())*3600)\n",
        "            m = (int(self.minute_combobox.get())*60)\n",
        "            s = (int(self.second_combobox.get()))\n",
        "            self.time_left = h + m + s\n"
      ],
      "metadata": {
        "id": "d7IoMkyH6Prf"
      },
      "execution_count": null,
      "outputs": []
    },
    {
      "cell_type": "code",
      "source": [
        "            # If the user try to set the default time(0:0:0) then\n",
        "            # a warning message will display\n",
        "            if s == 0 and m == 0 and h == 0:\n",
        "                messagebox.showwarning('Warning!',\\ 'Please select a right time to set')\n",
        "            else:\n",
        "                # Start Button\n",
        "                start_button = Button(self.button_frame, text=' Start',\n",
        "                font=('Helvetica',12), bg=\"green\", fg=\"white\",\n",
        "                command=self.Threading)\n",
        "                start_button.place(x=20, y=0)\n",
        "\n"
      ],
      "metadata": {
        "id": "1ZFQTlXR6WaH"
      },
      "execution_count": null,
      "outputs": []
    },
    {
      "cell_type": "code",
      "source": [
        "                # Pause Button\n",
        "                pause_button = Button(self.button_frame, text='Pause',\n",
        "                font=('Helvetica',12), bg=\"yellow\", fg=\"black\",\n",
        "                command=self.pause_time)\n",
        "                pause_button.place(x=100, y=0)\n",
        "                 except Exception as es:\n",
        "                messagebox.showerror(\"Error!\", \\ f\"Error due to {es}\")\n"
      ],
      "metadata": {
        "id": "SX9yhnxy6baI"
      },
      "execution_count": null,
      "outputs": []
    },
    {
      "cell_type": "code",
      "source": [
        "    # Creating a thread to run the show_time function\n",
        "    def Threading(self):\n",
        "        # Killing a thread through \"daemon=True\" isn't a good idea\n",
        "        self.x = Thread(target=self.start_time, daemon=True)\n",
        "        self.x.start()\n",
        "\n",
        "    # It wil clear all the widgets inside the\n",
        "    # 'self.button_frame' frame(Start and Pause buttons)\n",
        "    def Clear_Screen(self):\n",
        "        for widget in self.button_frame.winfo_children():\n",
        "            widget.destroy()\n",
        "\n",
        "    def pause_time(self):\n",
        "        self.pause = True\n",
        "\n",
        "        mins, secs = divmod(self.time_left, 60)\n",
        "        hours = 0\n",
        "        if mins > 60:\n",
        "            # hour minute\n",
        "            hours, mins = divmod(mins, 60)\n",
        "\n",
        "        self.time_display.config(text=f\"Time Left: {hours}: {mins}: {secs}\")\n",
        "        self.time_display.update()\n"
      ],
      "metadata": {
        "id": "N3XTohlI6vgf"
      },
      "execution_count": null,
      "outputs": []
    },
    {
      "cell_type": "code",
      "source": [
        "    # When the Start button will be pressed then,\n",
        "    # this \"show_time\" function will get called.\n",
        "    def start_time(self):\n",
        "        self.pause = False\n",
        "        while self.time_left > 0:\n",
        "            mins, secs = divmod(self.time_left, 60)\n",
        "\n",
        "            hours = 0\n",
        "            if mins > 60:\n",
        "                # hour minute\n",
        "                hours, mins = divmod(mins, 60)\n",
        "\n",
        "            self.time_display.config(text=f\"Time Left: {hours}: {mins}: {secs}\")\n",
        "            self.time_display.update()\n",
        "            # sleep function: for 1 second\n",
        "            time.sleep(1)\n",
        "            self.time_left = self.time_left -1\n",
        "            # When the time is over, a particular message is displayed\n",
        "\n",
        "            if self.time_left <= 0:\n",
        "\n",
        "                messagebox.showinfo('Time Over','Counter timer stopped playing')\n",
        "\n",
        "                # Clearing the 'self.button_frame' frame\n",
        "                self.Clear_Screen()\n",
        "            # if the pause button is pressed,\n",
        "            # the while loop will break\n",
        "            if self.pause == True:\n",
        "                break\n",
        "\n",
        "if __name__ == \"__main__\":\n",
        "    root = Tk()\n",
        "    # Creating a CountDown class object\n",
        "    obj = CountDown(root)\n",
        "    root.mainloop()\n"
      ],
      "metadata": {
        "id": "b62d3L0q6xSU"
      },
      "execution_count": null,
      "outputs": []
    }
  ]
}